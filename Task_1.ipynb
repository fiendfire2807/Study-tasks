{
 "cells": [
  {
   "cell_type": "code",
   "execution_count": 1,
   "metadata": {},
   "outputs": [],
   "source": [
    "#вызов необходимых функций\n",
    "from matplotlib import pyplot as plt\n",
    "from random import randint\n",
    "import os\n",
    "import numpy as np"
   ]
  },
  {
   "cell_type": "code",
   "execution_count": 2,
   "metadata": {},
   "outputs": [],
   "source": [
    "#функция для скачивания и выгрузки\n",
    "def fashion_mnist(path):\n",
    "  path = os.path.expanduser(path)\n",
    "  url = 'http://fashion-mnist.s3-website.eu-central-1.amazonaws.com/'\n",
    "  train_images = 'train-images-idx3-ubyte'\n",
    "  train_labels = 'train-labels-idx1-ubyte'\n",
    "  test_images = 't10k-images-idx3-ubyte'\n",
    "  test_labels = 't10k-labels-idx1-ubyte'\n",
    "\n",
    "  if not os.path.exists(os.path.join(path, train_images)):\n",
    "    maybe_download_and_extract(path, url + train_images + '.gz')\n",
    "  if not os.path.exists(os.path.join(path, train_labels)):\n",
    "    maybe_download_and_extract(path, url + train_labels + '.gz')\n",
    "  if not os.path.exists(os.path.join(path, test_images)):\n",
    "    maybe_download_and_extract(path, url + test_images + '.gz')\n",
    "  if not os.path.exists(os.path.join(path, test_labels)):\n",
    "    maybe_download_and_extract(path, url + test_labels + '.gz')\n",
    "\n",
    "  with open(os.path.join(path, train_images)) as f:\n",
    "    loaded = np.fromfile(file=f, dtype='uint8')\n",
    "  x_train = loaded[16:].reshape((60000, 28, 28)).astype(float)\n",
    "  with open(os.path.join(path, train_labels)) as f:\n",
    "    loaded = np.fromfile(file=f, dtype='uint8')\n",
    "  y_train = loaded[8:].reshape((60000,))\n",
    "  with open(os.path.join(path, test_images)) as f:\n",
    "    loaded = np.fromfile(file=f, dtype='uint8')\n",
    "  x_test = loaded[16:].reshape((10000, 28, 28)).astype(float)\n",
    "  with open(os.path.join(path, test_labels)) as f:\n",
    "    loaded = np.fromfile(file=f, dtype='uint8')\n",
    "  y_test = loaded[8:].reshape((10000,))\n",
    "\n",
    "  return (x_train, y_train), (x_test, y_test)"
   ]
  },
  {
   "cell_type": "code",
   "execution_count": 3,
   "metadata": {},
   "outputs": [],
   "source": [
    "#передача датасета в массивы\n",
    "(x_train, y_train), (x_test, y_test) = fashion_mnist('')"
   ]
  },
  {
   "cell_type": "code",
   "execution_count": 4,
   "metadata": {},
   "outputs": [],
   "source": [
    "#функция визуализации\n",
    "def visualize(dataset):\n",
    "    rand_nums = []\n",
    "    for i in range(3):\n",
    "        rand_numb = randint(0, 60000)\n",
    "        rand_nums.append(rand_numb)\n",
    "    for k in range(3):\n",
    "        plt.subplot(330 + 1 + k)\n",
    "        plt.imshow(dataset[rand_nums[k]], cmap=plt.get_cmap('gray'))\n",
    "        plt.show()"
   ]
  },
  {
   "cell_type": "code",
   "execution_count": 5,
   "metadata": {},
   "outputs": [
    {
     "data": {
      "image/png": "[encoded data removed]",
      "text/plain": [
       "<Figure size 432x288 with 1 Axes>"
      ]
     },
     "metadata": {
      "needs_background": "light"
     },
     "output_type": "display_data"
    },
    {
     "data": {
      "image/png": "[encoded data removed]",
      "text/plain": [
       "<Figure size 432x288 with 1 Axes>"
      ]
     },
     "metadata": {
      "needs_background": "light"
     },
     "output_type": "display_data"
    },
    {
     "data": {
      "image/png": "[encoded data removed]",
      "text/plain": [
       "<Figure size 432x288 with 1 Axes>"
      ]
     },
     "metadata": {
      "needs_background": "light"
     },
     "output_type": "display_data"
    }
   ],
   "source": [
    "#пример визуализации\n",
    "visualize(x_train)"
   ]
  },
  {
   "cell_type": "code",
   "execution_count": null,
   "metadata": {},
   "outputs": [],
   "source": []
  }
 ],
 "metadata": {
  "kernelspec": {
   "display_name": "Python 3",
   "language": "python",
   "name": "python3"
  },
  "language_info": {
   "codemirror_mode": {
    "name": "ipython",
    "version": 3
   },
   "file_extension": ".py",
   "mimetype": "text/x-python",
   "name": "python",
   "nbconvert_exporter": "python",
   "pygments_lexer": "ipython3",
   "version": "3.7.4"
  }
 },
 "nbformat": 4,
 "nbformat_minor": 2
}
