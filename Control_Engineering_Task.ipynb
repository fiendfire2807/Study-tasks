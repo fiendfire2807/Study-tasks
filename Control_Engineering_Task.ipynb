{
  "nbformat": 4,
  "nbformat_minor": 0,
  "metadata": {
    "colab": {
      "name": "Control Engineering Task.ipynb",
      "provenance": []
    },
    "kernelspec": {
      "name": "python3",
      "display_name": "Python 3"
    },
    "language_info": {
      "name": "python"
    }
  },
  "cells": [
    {
      "cell_type": "code",
      "metadata": {
        "id": "wolBa6fORrjJ"
      },
      "source": [
        "#импортируем необходимые библиотеки\n",
        "from scipy.integrate import odeint\n",
        "import seaborn as sns\n",
        "import pandas as pd\n",
        "import matplotlib.pyplot as plt"
      ],
      "execution_count": 1,
      "outputs": []
    },
    {
      "cell_type": "markdown",
      "metadata": {
        "id": "1ppQQkdZR84Y"
      },
      "source": [
        "Исходя из учебника, система выглядит как\n",
        "\\begin{equation*}\n",
        " \\begin{cases}\n",
        "   \\dot{x} = v &\\\\\n",
        "   \\dot{v} = b sin(x) + k_{1}x + k_{2}sin(x) + k_{3}v &\n",
        " \\end{cases}\n",
        "\\end{equation*}\n",
        ", где $k_1 = -\\frac{1}{8}$, $k_2 = -b$, $k_3 = -\\frac{3}{4}$.\n",
        "Подставив значения коэффициентов, получим, что\n",
        "\\begin{equation*}\n",
        " \\begin{cases}\n",
        "   \\dot{x} = v &\\\\\n",
        "   \\dot{v} = -\\frac{1}{8}x - \\frac{3}{4}v &\n",
        " \\end{cases}\n",
        "\\end{equation*}"
      ]
    },
    {
      "cell_type": "markdown",
      "metadata": {
        "id": "I9Ln7XOGTq6Y"
      },
      "source": [
        "Решим это уравнение и построим график, в качестве интервала для $x$ возьмем $[-\\frac{\\pi}{2}; \\frac{\\pi}{2}]$"
      ]
    },
    {
      "cell_type": "code",
      "metadata": {
        "id": "Vty4ZDrfR39e"
      },
      "source": [
        "#в данной функции опишем вектор значений x и v как системы\n",
        "def vectorfield(w, t):\n",
        "  x, v = w\n",
        "  f = [v, -0.125*x - 0.75*v]\n",
        "  return f"
      ],
      "execution_count": 2,
      "outputs": []
    },
    {
      "cell_type": "code",
      "metadata": {
        "id": "FGynOyDvUgbD"
      },
      "source": [
        "#начальные условия\n",
        "x_0 = 0 #начальное положение x\n",
        "v_0 = 1 #начальное положение v\n",
        "w0 = [x_0, v_0]"
      ],
      "execution_count": 3,
      "outputs": []
    },
    {
      "cell_type": "code",
      "metadata": {
        "id": "gLPL8cBKVIyG"
      },
      "source": [
        "#опишем параметры solver'а\n",
        "abserr = 1.0e-8\n",
        "relerr = 1.0e-6\n",
        "stoptime = 100 #на каком моменте останавливать счет\n",
        "numpoints = 1000 #число точек, на котором проводится расчет"
      ],
      "execution_count": 4,
      "outputs": []
    },
    {
      "cell_type": "code",
      "metadata": {
        "id": "A-vA4xDNVPgG"
      },
      "source": [
        "#получаем список массивов времени исходя из данных\n",
        "t = [stoptime * float(i) / (numpoints - 1) for i in range(numpoints)]"
      ],
      "execution_count": 5,
      "outputs": []
    },
    {
      "cell_type": "code",
      "metadata": {
        "id": "MkU0UocxVcOo"
      },
      "source": [
        "#здесь мы описываем солвер\n",
        "#на выход мы получим список значений x и v в каждый из промежутков времени\n",
        "wsol = odeint(vectorfield, w0, t, args=(),\n",
        "              atol=abserr, rtol=relerr)"
      ],
      "execution_count": 6,
      "outputs": []
    },
    {
      "cell_type": "code",
      "metadata": {
        "colab": {
          "base_uri": "https://localhost:8080/",
          "height": 295
        },
        "id": "QmMk0qgbV6a_",
        "outputId": "d76299c7-abcb-4be5-9cd2-20058f70eb7f"
      },
      "source": [
        "df = pd.DataFrame({'x':wsol[:, 0], 'v':wsol[:, 1]})\n",
        "sns.scatterplot(data=df, x='x', y='v')\n",
        "plt.title('Фазовый портрет маятника')\n",
        "plt.show()"
      ],
      "execution_count": 7,
      "outputs": [
        {
          "output_type": "display_data",
          "data": {
            "image/png": "[encoded data removed]",
            "text/plain": [
              "<Figure size 432x288 with 1 Axes>"
            ]
          },
          "metadata": {
            "tags": [],
            "needs_background": "light"
          }
        }
      ]
    },
    {
      "cell_type": "markdown",
      "metadata": {
        "id": "Bo8yfhfaaxJ0"
      },
      "source": [
        "Как видно, полученная система действительно обладает стабилизационным эффектом. При всех подборах параметров начальных условий система возвращается в состояние [0, 0]."
      ]
    },
    {
      "cell_type": "code",
      "metadata": {
        "id": "6Hcuwqj2bNpP"
      },
      "source": [
        ""
      ],
      "execution_count": null,
      "outputs": []
    }
  ]
}